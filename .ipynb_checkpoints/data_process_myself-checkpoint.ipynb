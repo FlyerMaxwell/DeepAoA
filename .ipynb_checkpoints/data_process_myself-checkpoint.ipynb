{
 "cells": [
  {
   "cell_type": "code",
   "execution_count": 1,
   "metadata": {
    "collapsed": true
   },
   "outputs": [],
   "source": [
    "import re\n",
    "import os\n",
    "import numpy as np\n",
    "import json\n",
    "import subprocess\n",
    "import matplotlib.pyplot as plt\n",
    "import matplotlib.animation as animation\n",
    "\n",
    "\n",
    "from aoa_utils import *    # import global variables"
   ]
  },
  {
   "cell_type": "code",
   "execution_count": 2,
   "metadata": {
    "collapsed": true
   },
   "outputs": [],
   "source": [
    "pause = False\n",
    "line = None\n",
    "packet = None\n",
    "\n",
    "cur_deg = None\n",
    "cur_ant = None\n",
    "cur_dis = None\n",
    "PLOT = False\n",
    "info = None\n",
    "\n",
    "denoise_win_threshold = 3"
   ]
  },
  {
   "cell_type": "code",
   "execution_count": 3,
   "metadata": {},
   "outputs": [
    {
     "name": "stdout",
     "output_type": "stream",
     "text": [
      "Loading data from  /Users/caiyunxiang/Desktop/AOA/6-15 ...\n"
     ]
    }
   ],
   "source": [
    " print(\"Loading data from \", data_path, \"...\")"
   ]
  },
  {
   "cell_type": "code",
   "execution_count": null,
   "metadata": {
    "collapsed": true
   },
   "outputs": [],
   "source": [
    "for fd in global_paths:\n",
    "    if os.path.exists(fd):#如果里面的内容存在了，就移动到.bk后面去\n",
    "        i = 0\n",
    "        while os.path.exists(fd+'.bk'+str(i)):#不覆盖掉上次的运行结果\n",
    "            i += 1\n",
    "        subprocess.call('mv %s %s'%(fd, fd+'.bk'+str(i)), shell=True)\n",
    "    subprocess.call('mkdir %s'%fd, shell=True)\n",
    "data = load_data(data_path)#读取数据"
   ]
  }
 ],
 "metadata": {
  "kernelspec": {
   "display_name": "Python 3",
   "language": "python",
   "name": "python3"
  },
  "language_info": {
   "codemirror_mode": {
    "name": "ipython",
    "version": 3
   },
   "file_extension": ".py",
   "mimetype": "text/x-python",
   "name": "python",
   "nbconvert_exporter": "python",
   "pygments_lexer": "ipython3",
   "version": "3.6.8"
  }
 },
 "nbformat": 4,
 "nbformat_minor": 2
}
